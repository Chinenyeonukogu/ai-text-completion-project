{
 "cells": [
  {
   "cell_type": "code",
   "execution_count": null,
   "id": "9843254e",
   "metadata": {},
   "outputs": [],
   "source": [
    "import openai\n",
    "from dotenv import load_dotenv\n",
    "import os\n",
    "\n",
    "# Load API Key\n",
    "load_dotenv()\n",
    "openai.api_key = os.getenv(\"OPENAI_API_KEY\")\n",
    "\n",
    "\n",
    "def generate_text(prompt):\n",
    "    if not prompt.strip():\n",
    "        return \"Prompt cannot be empty. Please try again.\"\n",
    "\n",
    "    try:\n",
    "        response = openai.ChatCompletion.create(\n",
    "            model=\"gpt-3.5-turbo\",  # Use GPT-3.5\n",
    "            messages=[\n",
    "                {\"role\": \"user\", \"content\": prompt}\n",
    "            ]\n",
    "        )\n",
    "        return response.choices[0].message[\"content\"].strip()\n",
    "    except Exception as e:\n",
    "        return f\"Error: {e}\"\n",
    "\n",
    "def main():\n",
    "    print(\"Welcome to the Generative AI Text App! (type 'exit' to quit)\\n\")\n",
    "    while True:\n",
    "        user_input = input(\"Enter your prompt: \")\n",
    "        if user_input.lower() == 'exit':\n",
    "            print(\"Goodbye!\")\n",
    "            break\n",
    "        output = generate_text(user_input)\n",
    "        print(\"\\nAI Response:\\n\", output)\n",
    "        print(\"-\" * 50)\n",
    "\n",
    "#one-time prompt (no loop)\n",
    "user_input = input (\"Enter your prompt\")\n",
    "if user_input.strip():\n",
    "    print(\"\\nAI Response:\\n\" , generate_text(user_input))\n",
    "    \n"
   ]
  }
 ],
 "metadata": {
  "kernelspec": {
   "display_name": "Python 3",
   "language": "python",
   "name": "python3"
  },
  "language_info": {
   "codemirror_mode": {
    "name": "ipython",
    "version": 3
   },
   "file_extension": ".py",
   "mimetype": "text/x-python",
   "name": "python",
   "nbconvert_exporter": "python",
   "pygments_lexer": "ipython3",
   "version": "3.13.3"
  }
 },
 "nbformat": 4,
 "nbformat_minor": 5
}
