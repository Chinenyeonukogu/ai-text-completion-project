{
 "cells": [
  {
   "cell_type": "code",
   "execution_count": null,
   "id": "9843254e",
   "metadata": {},
   "outputs": [
    {
     "name": "stdout",
     "output_type": "stream",
     "text": [
      "Welcome to the Generative AI Text App! (type 'exit' to quit)\n",
      "\n"
     ]
    },
    {
     "ename": "",
     "evalue": "",
     "output_type": "error",
     "traceback": [
      "\u001b[1;31mFailed to restart the Kernel. \n",
      "\u001b[1;31mUnable to start Kernel 'Python 3.13.3' due to a timeout waiting for the ports to get used. \n",
      "\u001b[1;31mView Jupyter <a href='command:jupyter.viewOutput'>log</a> for further details."
     ]
    }
   ],
   "source": [
    "import openai\n",
    "from dotenv import load_dotenv\n",
    "import os\n",
    "\n",
    "# Load API Key\n",
    "load_dotenv()\n",
    "openai.api_key = os.getenv(\"OPENAI_API_KEY\")\n",
    "\n",
    "\n",
    "def generate_text(prompt):\n",
    "    if not prompt.strip():\n",
    "        return \"Prompt cannot be empty. Please try again.\"\n",
    "\n",
    "    try:\n",
    "        response = openai.ChatCompletion.create(\n",
    "            model=\"gpt-3.5-turbo\",  # Use GPT-3.5\n",
    "            messages=[\n",
    "                {\"role\": \"user\", \"content\": prompt}\n",
    "            ]\n",
    "        )\n",
    "        return response.choices[0].message[\"content\"].strip()\n",
    "    except Exception as e:\n",
    "        return f\"Error: {e}\"\n",
    "\n",
    "def main():\n",
    "    print(\"Welcome to the Generative AI Text App! (type 'exit' to quit)\\n\")\n",
    "    while True:\n",
    "        user_input = input(\"Enter your prompt: \")\n",
    "        if user_input.lower() == 'exit':\n",
    "            print(\"Goodbye!\")\n",
    "            break\n",
    "        output = generate_text(user_input)\n",
    "        print(\"\\nAI Response:\\n\", output)\n",
    "        print(\"-\" * 50)\n",
    "\n",
    "#one-time prompt (no loop)\n",
    "user_input = input (\"Enter your prompt\")\n",
    "if user_input.strip():\n",
    "    print(\"\\nAI Response:\\n\" , generate_text(user_input))\n",
    "    \n"
   ]
  },
  {
   "cell_type": "code",
   "execution_count": null,
   "id": "cad9754c",
   "metadata": {},
   "outputs": [],
   "source": [
    "import openai\n",
    "from dotenv import load_dotenv\n",
    "import os\n",
    "\n",
    "# Load environment variables and API key\n",
    "load_dotenv()\n",
    "openai.api_key = os.getenv(\"OPENAI_API_KEY\")\n",
    "\n",
    "def generate_text(prompt, temperature=0.7, max_tokens=150):\n",
    "    if not prompt.strip():\n",
    "        return \"❗ Prompt cannot be empty. Please try again.\"\n",
    "\n",
    "    if len(prompt) > 1000:\n",
    "        return \"❗ Prompt is too long. Try reducing it below 1000 characters.\"\n",
    "\n",
    "    try:\n",
    "        response = openai.ChatCompletion.create(\n",
    "            model=\"gpt-3.5-turbo\",\n",
    "            messages=[{\"role\": \"user\", \"content\": prompt}],\n",
    "            temperature=temperature,\n",
    "            max_tokens=max_tokens\n",
    "        )\n",
    "        return response.choices[0].message[\"content\"].strip()\n",
    "\n",
    "    except openai.error.AuthenticationError:\n",
    "        return \"❗ Authentication error. Check your API key.\"\n",
    "\n",
    "    except openai.error.Timeout:\n",
    "        return \"❗ Request timed out. Try again later.\"\n",
    "\n",
    "    except openai.error.OpenAIError as e:\n",
    "        return f\"❗ OpenAI Error: {e}\"\n",
    "\n",
    "    except Exception as e:\n",
    "        return f\"❗ Unexpected error: {e}\"\n",
    "\n",
    "def main():\n",
    "    print(\"🤖 Welcome to the Generative AI App!\")\n",
    "    print(\"Type 'exit' to quit.\")\n",
    "    \n",
    "    try:\n",
    "        temp = float(input(\"Set temperature (0.0–1.0, default 0.7): \") or 0.7)\n",
    "        tokens = int(input(\"Set max tokens (default 150): \") or 150)\n",
    "    except ValueError:\n",
    "        print(\"⚠️ Invalid input. Using default settings: temperature=0.7, max_tokens=150\")\n",
    "        temp = 0.7\n",
    "        tokens = 150\n",
    "\n",
    "    while True:\n",
    "        user_input = input(\"\\nEnter your prompt: \")\n",
    "        if user_input.lower() == 'exit':\n",
    "            print(\"👋 Goodbye!\")\n",
    "            break\n",
    "        output = generate_text(user_input, temperature=temp, max_tokens=tokens)\n",
    "        print(\"\\n🧠 AI Response:\\n\", output)\n",
    "        print(\"-\" * 60)\n",
    "\n",
    "if __name__ == \"__main__\":\n",
    "    main()"
   ]
  },
  {
   "cell_type": "code",
   "execution_count": null,
   "id": "6795d56b",
   "metadata": {},
   "outputs": [],
   "source": [
    "# Install dependencies\n",
    "!pip install openai python-dotenv ipywidgets\n",
    "\n"
   ]
  }
 ],
 "metadata": {
  "kernelspec": {
   "display_name": "Python 3",
   "language": "python",
   "name": "python3"
  },
  "language_info": {
   "codemirror_mode": {
    "name": "ipython",
    "version": 3
   },
   "file_extension": ".py",
   "mimetype": "text/x-python",
   "name": "python",
   "nbconvert_exporter": "python",
   "pygments_lexer": "ipython3",
   "version": "3.13.3"
  }
 },
 "nbformat": 4,
 "nbformat_minor": 5
}
